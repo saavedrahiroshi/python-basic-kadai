{
  "nbformat": 4,
  "nbformat_minor": 0,
  "metadata": {
    "colab": {
      "provenance": [],
      "authorship_tag": "ABX9TyMuO4RML4t8kMjOUCDaMGsr",
      "include_colab_link": true
    },
    "kernelspec": {
      "name": "python3",
      "display_name": "Python 3"
    },
    "language_info": {
      "name": "python"
    }
  },
  "cells": [
    {
      "cell_type": "markdown",
      "metadata": {
        "id": "view-in-github",
        "colab_type": "text"
      },
      "source": [
        "<a href=\"https://colab.research.google.com/github/saavedrahiroshi/python-basic-kadai/blob/main/kadai_015.ipynb\" target=\"_parent\"><img src=\"https://colab.research.google.com/assets/colab-badge.svg\" alt=\"Open In Colab\"/></a>"
      ]
    },
    {
      "cell_type": "code",
      "source": [
        "class Human:\n",
        "  def __init__(self, name, age):\n",
        "    self.name = name\n",
        "    self.age = age\n",
        "\n",
        "  def printinfo(self):\n",
        "    print(f\"名前:{self.name}\")\n",
        "    print(f\"年齢:{self.age}\")\n",
        "\n",
        "human1 = Human(\"ひろし\", 25)\n",
        "human2 = Human(\"だいき\", 22)\n",
        "\n",
        "human1.printinfo()\n",
        "human2.printinfo()\n"
      ],
      "metadata": {
        "colab": {
          "base_uri": "https://localhost:8080/"
        },
        "id": "MGp_qvfriAf5",
        "outputId": "9ccc6a09-1b08-4c83-84aa-bf156847f2c5"
      },
      "execution_count": 10,
      "outputs": [
        {
          "output_type": "stream",
          "name": "stdout",
          "text": [
            "名前:ひろし\n",
            "年齢:25\n",
            "名前:だいき\n",
            "年齢:22\n"
          ]
        }
      ]
    }
  ]
}